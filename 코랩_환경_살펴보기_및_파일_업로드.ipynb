{
  "nbformat": 4,
  "nbformat_minor": 0,
  "metadata": {
    "colab": {
      "name": "코랩 환경 살펴보기 및 파일 업로드.ipynb",
      "provenance": [],
      "authorship_tag": "ABX9TyO2z/lOLnsDR7vyGmWcvqF0",
      "include_colab_link": true
    },
    "kernelspec": {
      "name": "python3",
      "display_name": "Python 3"
    },
    "language_info": {
      "name": "python"
    }
  },
  "cells": [
    {
      "cell_type": "markdown",
      "metadata": {
        "id": "view-in-github",
        "colab_type": "text"
      },
      "source": [
        "<a href=\"https://colab.research.google.com/github/eunssung5/2021.01.25/blob/master/%EC%BD%94%EB%9E%A9_%ED%99%98%EA%B2%BD_%EC%82%B4%ED%8E%B4%EB%B3%B4%EA%B8%B0_%EB%B0%8F_%ED%8C%8C%EC%9D%BC_%EC%97%85%EB%A1%9C%EB%93%9C.ipynb\" target=\"_parent\"><img src=\"https://colab.research.google.com/assets/colab-badge.svg\" alt=\"Open In Colab\"/></a>"
      ]
    },
    {
      "cell_type": "code",
      "metadata": {
        "colab": {
          "base_uri": "https://localhost:8080/"
        },
        "id": "NGMJEc1paRmc",
        "outputId": "0c60d665-a61c-4545-ca25-3f6f903cf3af"
      },
      "source": [
        "!cat /etc/issue.net"
      ],
      "execution_count": 1,
      "outputs": [
        {
          "output_type": "stream",
          "text": [
            "Ubuntu 18.04.5 LTS\n"
          ],
          "name": "stdout"
        }
      ]
    },
    {
      "cell_type": "code",
      "metadata": {
        "colab": {
          "base_uri": "https://localhost:8080/"
        },
        "id": "n1xmmNJ7a4c8",
        "outputId": "da122fb8-ec51-47f0-d57c-c2920839a567"
      },
      "source": [
        "!head /proc/cpuinfo"
      ],
      "execution_count": 2,
      "outputs": [
        {
          "output_type": "stream",
          "text": [
            "processor\t: 0\n",
            "vendor_id\t: GenuineIntel\n",
            "cpu family\t: 6\n",
            "model\t\t: 63\n",
            "model name\t: Intel(R) Xeon(R) CPU @ 2.30GHz\n",
            "stepping\t: 0\n",
            "microcode\t: 0x1\n",
            "cpu MHz\t\t: 2299.998\n",
            "cache size\t: 46080 KB\n",
            "physical id\t: 0\n"
          ],
          "name": "stdout"
        }
      ]
    },
    {
      "cell_type": "code",
      "metadata": {
        "colab": {
          "base_uri": "https://localhost:8080/"
        },
        "id": "DyU4MPoRa_YF",
        "outputId": "2120f4e3-51b9-45db-b12b-56aa0a10db06"
      },
      "source": [
        "!nvidia-smi"
      ],
      "execution_count": 6,
      "outputs": [
        {
          "output_type": "stream",
          "text": [
            "NVIDIA-SMI has failed because it couldn't communicate with the NVIDIA driver. Make sure that the latest NVIDIA driver is installed and running.\n",
            "\n"
          ],
          "name": "stdout"
        }
      ]
    },
    {
      "cell_type": "code",
      "metadata": {
        "colab": {
          "base_uri": "https://localhost:8080/"
        },
        "id": "XP7H8ulPbE1h",
        "outputId": "c957d97f-f1f0-407c-9741-5d86abba5fa6"
      },
      "source": [
        "!python --version"
      ],
      "execution_count": 5,
      "outputs": [
        {
          "output_type": "stream",
          "text": [
            "Python 3.7.10\n"
          ],
          "name": "stdout"
        }
      ]
    },
    {
      "cell_type": "code",
      "metadata": {
        "id": "mbPhV2RMbO79"
      },
      "source": [
        ""
      ],
      "execution_count": null,
      "outputs": []
    },
    {
      "cell_type": "markdown",
      "metadata": {
        "id": "2RJkLfB8bca9"
      },
      "source": [
        "#### 파일 업로드"
      ]
    },
    {
      "cell_type": "code",
      "metadata": {
        "id": "Z76hqpsrbeNU"
      },
      "source": [
        "from google.colab import files"
      ],
      "execution_count": 7,
      "outputs": []
    },
    {
      "cell_type": "code",
      "metadata": {
        "colab": {
          "resources": {
            "http://localhost:8080/nbextensions/google.colab/files.js": {
              "data": "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",
              "ok": true,
              "headers": [
                [
                  "content-type",
                  "application/javascript"
                ]
              ],
              "status": 200,
              "status_text": ""
            }
          },
          "base_uri": "https://localhost:8080/",
          "height": 76
        },
        "id": "76ujDpvKbjnY",
        "outputId": "11e0b6a9-cd60-4ef3-e7de-40900b643c85"
      },
      "source": [
        "myfile = files.upload()"
      ],
      "execution_count": 9,
      "outputs": [
        {
          "output_type": "display_data",
          "data": {
            "text/html": [
              "\n",
              "     <input type=\"file\" id=\"files-2569279b-ef39-4c1e-b758-3e7aaf334d94\" name=\"files[]\" multiple disabled\n",
              "        style=\"border:none\" />\n",
              "     <output id=\"result-2569279b-ef39-4c1e-b758-3e7aaf334d94\">\n",
              "      Upload widget is only available when the cell has been executed in the\n",
              "      current browser session. Please rerun this cell to enable.\n",
              "      </output>\n",
              "      <script src=\"/nbextensions/google.colab/files.js\"></script> "
            ],
            "text/plain": [
              "<IPython.core.display.HTML object>"
            ]
          },
          "metadata": {
            "tags": []
          }
        },
        {
          "output_type": "stream",
          "text": [
            "Saving auto-mpg.csv to auto-mpg.csv\n"
          ],
          "name": "stdout"
        }
      ]
    },
    {
      "cell_type": "code",
      "metadata": {
        "colab": {
          "base_uri": "https://localhost:8080/"
        },
        "id": "pyHeBM7Mb1kb",
        "outputId": "b4fc508f-20d9-4fad-c671-ea377d3b4a1e"
      },
      "source": [
        "myfile"
      ],
      "execution_count": 10,
      "outputs": [
        {
          "output_type": "execute_result",
          "data": {
            "text/plain": [
              "{'auto-mpg.csv': b'\\xef\\xbb\\xbf18.0,8,307.0,130.0,3504.,12.0,70,1,\"chevrolet chevelle malibu\"\\r\\n15.0,8,350.0,165.0,3693.,11.5,70,1,\"buick skylark 320\"\\r\\n18.0,8,318.0,150.0,3436.,11.0,70,1,\"plymouth satellite\"\\r\\n16.0,8,304.0,150.0,3433.,12.0,70,1,\"amc rebel sst\"\\r\\n17.0,8,302.0,140.0,3449.,10.5,70,1,\"ford torino\"\\r\\n15.0,8,429.0,198.0,4341.,10.0,70,1,\"ford galaxie 500\"\\r\\n14.0,8,454.0,220.0,4354., 9.0,70,1,\"chevrolet impala\"\\r\\n14.0,8,440.0,215.0,4312., 8.5,70,1,\"plymouth fury iii\"\\r\\n14.0,8,455.0,225.0,4425.,10.0,70,1,\"pontiac catalina\"\\r\\n15.0,8,390.0,190.0,3850., 8.5,70,1,\"amc ambassador dpl\"\\r\\n15.0,8,383.0,170.0,3563.,10.0,70,1,\"dodge challenger se\"\\r\\n14.0,8,340.0,160.0,3609., 8.0,70,1,\"plymouth \\'cuda 340\"\\r\\n15.0,8,400.0,150.0,3761., 9.5,70,1,\"chevrolet monte carlo\"\\r\\n14.0,8,455.0,225.0,3086.,10.0,70,1,\"buick estate wagon (sw)\"\\r\\n24.0,4,113.0,95.00,2372.,15.0,70,3,\"toyota corona mark ii\"\\r\\n22.0,6,198.0,95.00,2833.,15.5,70,1,\"plymouth duster\"\\r\\n18.0,6,199.0,97.00,2774.,15.5,70,1,\"amc hornet\"\\r\\n21.0,6,200.0,85.00,2587.,16.0,70,1,\"ford maverick\"\\r\\n27.0,4,97.00,88.00,2130.,14.5,70,3,\"datsun pl510\"\\r\\n26.0,4,97.00,46.00,1835.,20.5,70,2,\"volkswagen 1131 deluxe sedan\"\\r\\n25.0,4,110.0,87.00,2672.,17.5,70,2,\"peugeot 504\"\\r\\n24.0,4,107.0,90.00,2430.,14.5,70,2,\"audi 100 ls\"\\r\\n25.0,4,104.0,95.00,2375.,17.5,70,2,\"saab 99e\"\\r\\n26.0,4,121.0,113.0,2234.,12.5,70,2,\"bmw 2002\"\\r\\n21.0,6,199.0,90.00,2648.,15.0,70,1,\"amc gremlin\"\\r\\n10.0,8,360.0,215.0,4615.,14.0,70,1,\"ford f250\"\\r\\n10.0,8,307.0,200.0,4376.,15.0,70,1,\"chevy c20\"\\r\\n11.0,8,318.0,210.0,4382.,13.5,70,1,\"dodge d200\"\\r\\n9.0, 8,304.0,193.0,4732.,18.5,70,1,\"hi 1200d\"\\r\\n27.0,4,97.00,88.00,2130.,14.5,71,3,\"datsun pl510\"\\r\\n28.0,4,140.0,90.00,2264.,15.5,71,1,\"chevrolet vega 2300\"\\r\\n25.0,4,113.0,95.00,2228.,14.0,71,3,\"toyota corona\"\\r\\n25.0,4,98.00,?, 2046.,19.0,71,1,\"ford pinto\"\\r\\n19.0,6,232.0,100.0,2634.,13.0,71,1,\"amc gremlin\"\\r\\n16.0,6,225.0,105.0,3439.,15.5,71,1,\"plymouth satellite custom\"\\r\\n17.0,6,250.0,100.0,3329.,15.5,71,1,\"chevrolet chevelle malibu\"\\r\\n19.0,6,250.0,88.00,3302.,15.5,71,1,\"ford torino 500\"\\r\\n18.0,6,232.0,100.0,3288.,15.5,71,1,\"amc matador\"\\r\\n14.0,8,350.0,165.0,4209.,12.0,71,1,\"chevrolet impala\"\\r\\n14.0,8,400.0,175.0,4464.,11.5,71,1,\"pontiac catalina brougham\"\\r\\n14.0,8,351.0,153.0,4154.,13.5,71,1,\"ford galaxie 500\"\\r\\n14.0,8,318.0,150.0,4096.,13.0,71,1,\"plymouth fury iii\"\\r\\n12.0,8,383.0,180.0,4955.,11.5,71,1,\"dodge monaco (sw)\"\\r\\n13.0,8,400.0,170.0,4746.,12.0,71,1,\"ford country squire (sw)\"\\r\\n13.0,8,400.0,175.0,5140.,12.0,71,1,\"pontiac safari (sw)\"\\r\\n18.0,6,258.0,110.0,2962.,13.5,71,1,\"amc hornet sportabout (sw)\"\\r\\n22.0,4,140.0,72.00,2408.,19.0,71,1,\"chevrolet vega (sw)\"\\r\\n19.0,6,250.0,100.0,3282.,15.0,71,1,\"pontiac firebird\"\\r\\n18.0,6,250.0,88.00,3139.,14.5,71,1,\"ford mustang\"\\r\\n23.0,4,122.0,86.00,2220.,14.0,71,1,\"mercury capri 2000\"\\r\\n28.0,4,116.0,90.00,2123.,14.0,71,2,\"opel 1900\"\\r\\n30.0,4,79.00,70.00,2074.,19.5,71,2,\"peugeot 304\"\\r\\n30.0,4,88.00,76.00,2065.,14.5,71,2,\"fiat 124b\"\\r\\n31.0,4,71.00,65.00,1773.,19.0,71,3,\"toyota corolla 1200\"\\r\\n35.0,4,72.00,69.00,1613.,18.0,71,3,\"datsun 1200\"\\r\\n27.0,4,97.00,60.00,1834.,19.0,71,2,\"volkswagen model 111\"\\r\\n26.0,4,91.00,70.00,1955.,20.5,71,1,\"plymouth cricket\"\\r\\n24.0,4,113.0,95.00,2278.,15.5,72,3,\"toyota corona hardtop\"\\r\\n25.0,4,97.50,80.00,2126.,17.0,72,1,\"dodge colt hardtop\"\\r\\n23.0,4,97.00,54.00,2254.,23.5,72,2,\"volkswagen type 3\"\\r\\n20.0,4,140.0,90.00,2408.,19.5,72,1,\"chevrolet vega\"\\r\\n21.0,4,122.0,86.00,2226.,16.5,72,1,\"ford pinto runabout\"\\r\\n13.0,8,350.0,165.0,4274.,12.0,72,1,\"chevrolet impala\"\\r\\n14.0,8,400.0,175.0,4385.,12.0,72,1,\"pontiac catalina\"\\r\\n15.0,8,318.0,150.0,4135.,13.5,72,1,\"plymouth fury iii\"\\r\\n14.0,8,351.0,153.0,4129.,13.0,72,1,\"ford galaxie 500\"\\r\\n17.0,8,304.0,150.0,3672.,11.5,72,1,\"amc ambassador sst\"\\r\\n11.0,8,429.0,208.0,4633.,11.0,72,1,\"mercury marquis\"\\r\\n13.0,8,350.0,155.0,4502.,13.5,72,1,\"buick lesabre custom\"\\r\\n12.0,8,350.0,160.0,4456.,13.5,72,1,\"oldsmobile delta 88 royale\"\\r\\n13.0,8,400.0,190.0,4422.,12.5,72,1,\"chrysler newport royal\"\\r\\n19.0,3,70.00,97.00,2330.,13.5,72,3,\"mazda rx2 coupe\"\\r\\n15.0,8,304.0,150.0,3892.,12.5,72,1,\"amc matador (sw)\"\\r\\n13.0,8,307.0,130.0,4098.,14.0,72,1,\"chevrolet chevelle concours (sw)\"\\r\\n13.0,8,302.0,140.0,4294.,16.0,72,1,\"ford gran torino (sw)\"\\r\\n14.0,8,318.0,150.0,4077.,14.0,72,1,\"plymouth satellite custom (sw)\"\\r\\n18.0,4,121.0,112.0,2933.,14.5,72,2,\"volvo 145e (sw)\"\\r\\n22.0,4,121.0,76.00,2511.,18.0,72,2,\"volkswagen 411 (sw)\"\\r\\n21.0,4,120.0,87.00,2979.,19.5,72,2,\"peugeot 504 (sw)\"\\r\\n26.0,4,96.00,69.00,2189.,18.0,72,2,\"renault 12 (sw)\"\\r\\n22.0,4,122.0,86.00,2395.,16.0,72,1,\"ford pinto (sw)\"\\r\\n28.0,4,97.00,92.00,2288.,17.0,72,3,\"datsun 510 (sw)\"\\r\\n23.0,4,120.0,97.00,2506.,14.5,72,3,\"toyouta corona mark ii (sw)\"\\r\\n28.0,4,98.00,80.00,2164.,15.0,72,1,\"dodge colt (sw)\"\\r\\n27.0,4,97.00,88.00,2100.,16.5,72,3,\"toyota corolla 1600 (sw)\"\\r\\n13.0,8,350.0,175.0,4100.,13.0,73,1,\"buick century 350\"\\r\\n14.0,8,304.0,150.0,3672.,11.5,73,1,\"amc matador\"\\r\\n13.0,8,350.0,145.0,3988.,13.0,73,1,\"chevrolet malibu\"\\r\\n14.0,8,302.0,137.0,4042.,14.5,73,1,\"ford gran torino\"\\r\\n15.0,8,318.0,150.0,3777.,12.5,73,1,\"dodge coronet custom\"\\r\\n12.0,8,429.0,198.0,4952.,11.5,73,1,\"mercury marquis brougham\"\\r\\n13.0,8,400.0,150.0,4464.,12.0,73,1,\"chevrolet caprice classic\"\\r\\n13.0,8,351.0,158.0,4363.,13.0,73,1,\"ford ltd\"\\r\\n14.0,8,318.0,150.0,4237.,14.5,73,1,\"plymouth fury gran sedan\"\\r\\n13.0,8,440.0,215.0,4735.,11.0,73,1,\"chrysler new yorker brougham\"\\r\\n12.0,8,455.0,225.0,4951.,11.0,73,1,\"buick electra 225 custom\"\\r\\n13.0,8,360.0,175.0,3821.,11.0,73,1,\"amc ambassador brougham\"\\r\\n18.0,6,225.0,105.0,3121.,16.5,73,1,\"plymouth valiant\"\\r\\n16.0,6,250.0,100.0,3278.,18.0,73,1,\"chevrolet nova custom\"\\r\\n18.0,6,232.0,100.0,2945.,16.0,73,1,\"amc hornet\"\\r\\n18.0,6,250.0,88.00,3021.,16.5,73,1,\"ford maverick\"\\r\\n23.0,6,198.0,95.00,2904.,16.0,73,1,\"plymouth duster\"\\r\\n26.0,4,97.00,46.00,1950.,21.0,73,2,\"volkswagen super beetle\"\\r\\n11.0,8,400.0,150.0,4997.,14.0,73,1,\"chevrolet impala\"\\r\\n12.0,8,400.0,167.0,4906.,12.5,73,1,\"ford country\"\\r\\n13.0,8,360.0,170.0,4654.,13.0,73,1,\"plymouth custom suburb\"\\r\\n12.0,8,350.0,180.0,4499.,12.5,73,1,\"oldsmobile vista cruiser\"\\r\\n18.0,6,232.0,100.0,2789.,15.0,73,1,\"amc gremlin\"\\r\\n20.0,4,97.00,88.00,2279.,19.0,73,3,\"toyota carina\"\\r\\n21.0,4,140.0,72.00,2401.,19.5,73,1,\"chevrolet vega\"\\r\\n22.0,4,108.0,94.00,2379.,16.5,73,3,\"datsun 610\"\\r\\n18.0,3,70.00,90.00,2124.,13.5,73,3,\"maxda rx3\"\\r\\n19.0,4,122.0,85.00,2310.,18.5,73,1,\"ford pinto\"\\r\\n21.0,6,155.0,107.0,2472.,14.0,73,1,\"mercury capri v6\"\\r\\n26.0,4,98.00,90.00,2265.,15.5,73,2,\"fiat 124 sport coupe\"\\r\\n15.0,8,350.0,145.0,4082.,13.0,73,1,\"chevrolet monte carlo s\"\\r\\n16.0,8,400.0,230.0,4278.,9.50,73,1,\"pontiac grand prix\"\\r\\n29.0,4,68.00,49.00,1867.,19.5,73,2,\"fiat 128\"\\r\\n24.0,4,116.0,75.00,2158.,15.5,73,2,\"opel manta\"\\r\\n20.0,4,114.0,91.00,2582.,14.0,73,2,\"audi 100ls\"\\r\\n19.0,4,121.0,112.0,2868.,15.5,73,2,\"volvo 144ea\"\\r\\n15.0,8,318.0,150.0,3399.,11.0,73,1,\"dodge dart custom\"\\r\\n24.0,4,121.0,110.0,2660.,14.0,73,2,\"saab 99le\"\\r\\n20.0,6,156.0,122.0,2807.,13.5,73,3,\"toyota mark ii\"\\r\\n11.0,8,350.0,180.0,3664.,11.0,73,1,\"oldsmobile omega\"\\r\\n20.0,6,198.0,95.00,3102.,16.5,74,1,\"plymouth duster\"\\r\\n21.0,6,200.0,?, 2875.,17.0,74,1,\"ford maverick\"\\r\\n19.0,6,232.0,100.0,2901.,16.0,74,1,\"amc hornet\"\\r\\n15.0,6,250.0,100.0,3336.,17.0,74,1,\"chevrolet nova\"\\r\\n31.0,4,79.00,67.00,1950.,19.0,74,3,\"datsun b210\"\\r\\n26.0,4,122.0,80.00,2451.,16.5,74,1,\"ford pinto\"\\r\\n32.0,4,71.00,65.00,1836.,21.0,74,3,\"toyota corolla 1200\"\\r\\n25.0,4,140.0,75.00,2542.,17.0,74,1,\"chevrolet vega\"\\r\\n16.0,6,250.0,100.0,3781.,17.0,74,1,\"chevrolet chevelle malibu classic\"\\r\\n16.0,6,258.0,110.0,3632.,18.0,74,1,\"amc matador\"\\r\\n18.0,6,225.0,105.0,3613.,16.5,74,1,\"plymouth satellite sebring\"\\r\\n16.0,8,302.0,140.0,4141.,14.0,74,1,\"ford gran torino\"\\r\\n13.0,8,350.0,150.0,4699.,14.5,74,1,\"buick century luxus (sw)\"\\r\\n14.0,8,318.0,150.0,4457.,13.5,74,1,\"dodge coronet custom (sw)\"\\r\\n14.0,8,302.0,140.0,4638.,16.0,74,1,\"ford gran torino (sw)\"\\r\\n14.0,8,304.0,150.0,4257.,15.5,74,1,\"amc matador (sw)\"\\r\\n29.0,4,98.00,83.00,2219.,16.5,74,2,\"audi fox\"\\r\\n26.0,4,79.00,67.00,1963.,15.5,74,2,\"volkswagen dasher\"\\r\\n26.0,4,97.00,78.00,2300.,14.5,74,2,\"opel manta\"\\r\\n31.0,4,76.00,52.00,1649.,16.5,74,3,\"toyota corona\"\\r\\n32.0,4,83.00,61.00,2003.,19.0,74,3,\"datsun 710\"\\r\\n28.0,4,90.00,75.00,2125.,14.5,74,1,\"dodge colt\"\\r\\n24.0,4,90.00,75.00,2108.,15.5,74,2,\"fiat 128\"\\r\\n26.0,4,116.0,75.00,2246.,14.0,74,2,\"fiat 124 tc\"\\r\\n24.0,4,120.0,97.00,2489.,15.0,74,3,\"honda civic\"\\r\\n26.0,4,108.0,93.00,2391.,15.5,74,3,\"subaru\"\\r\\n31.0,4,79.00,67.00,2000.,16.0,74,2,\"fiat x1.9\"\\r\\n19.0,6,225.0,95.00,3264.,16.0,75,1,\"plymouth valiant custom\"\\r\\n18.0,6,250.0,105.0,3459.,16.0,75,1,\"chevrolet nova\"\\r\\n15.0,6,250.0,72.00,3432.,21.0,75,1,\"mercury monarch\"\\r\\n15.0,6,250.0,72.00,3158.,19.5,75,1,\"ford maverick\"\\r\\n16.0,8,400.0,170.0,4668.,11.5,75,1,\"pontiac catalina\"\\r\\n15.0,8,350.0,145.0,4440.,14.0,75,1,\"chevrolet bel air\"\\r\\n16.0,8,318.0,150.0,4498.,14.5,75,1,\"plymouth grand fury\"\\r\\n14.0,8,351.0,148.0,4657.,13.5,75,1,\"ford ltd\"\\r\\n17.0,6,231.0,110.0,3907.,21.0,75,1,\"buick century\"\\r\\n16.0,6,250.0,105.0,3897.,18.5,75,1,\"chevroelt chevelle malibu\"\\r\\n15.0,6,258.0,110.0,3730.,19.0,75,1,\"amc matador\"\\r\\n18.0,6,225.0,95.00,3785.,19.0,75,1,\"plymouth fury\"\\r\\n21.0,6,231.0,110.0,3039.,15.0,75,1,\"buick skyhawk\"\\r\\n20.0,8,262.0,110.0,3221.,13.5,75,1,\"chevrolet monza 2+2\"\\r\\n13.0,8,302.0,129.0,3169.,12.0,75,1,\"ford mustang ii\"\\r\\n29.0,4,97.00,75.00,2171.,16.0,75,3,\"toyota corolla\"\\r\\n23.0,4,140.0,83.00,2639.,17.0,75,1,\"ford pinto\"\\r\\n20.0,6,232.0,100.0,2914.,16.0,75,1,\"amc gremlin\"\\r\\n23.0,4,140.0,78.00,2592.,18.5,75,1,\"pontiac astro\"\\r\\n24.0,4,134.0,96.00,2702.,13.5,75,3,\"toyota corona\"\\r\\n25.0,4,90.00,71.00,2223.,16.5,75,2,\"volkswagen dasher\"\\r\\n24.0,4,119.0,97.00,2545.,17.0,75,3,\"datsun 710\"\\r\\n18.0,6,171.0,97.00,2984.,14.5,75,1,\"ford pinto\"\\r\\n29.0,4,90.00,70.00,1937.,14.0,75,2,\"volkswagen rabbit\"\\r\\n19.0,6,232.0,90.00,3211.,17.0,75,1,\"amc pacer\"\\r\\n23.0,4,115.0,95.00,2694.,15.0,75,2,\"audi 100ls\"\\r\\n23.0,4,120.0,88.00,2957.,17.0,75,2,\"peugeot 504\"\\r\\n22.0,4,121.0,98.00,2945.,14.5,75,2,\"volvo 244dl\"\\r\\n25.0,4,121.0,115.0,2671.,13.5,75,2,\"saab 99le\"\\r\\n33.0,4,91.00,53.00,1795.,17.5,75,3,\"honda civic cvcc\"\\r\\n28.0,4,107.0,86.00,2464.,15.5,76,2,\"fiat 131\"\\r\\n25.0,4,116.0,81.00,2220.,16.9,76,2,\"opel 1900\"\\r\\n25.0,4,140.0,92.00,2572.,14.9,76,1,\"capri ii\"\\r\\n26.0,4,98.00,79.00,2255.,17.7,76,1,\"dodge colt\"\\r\\n27.0,4,101.0,83.00,2202.,15.3,76,2,\"renault 12tl\"\\r\\n17.5,8,305.0,140.0,4215.,13.0,76,1,\"chevrolet chevelle malibu classic\"\\r\\n16.0,8,318.0,150.0,4190.,13.0,76,1,\"dodge coronet brougham\"\\r\\n15.5,8,304.0,120.0,3962.,13.9,76,1,\"amc matador\"\\r\\n14.5,8,351.0,152.0,4215.,12.8,76,1,\"ford gran torino\"\\r\\n22.0,6,225.0,100.0,3233.,15.4,76,1,\"plymouth valiant\"\\r\\n22.0,6,250.0,105.0,3353.,14.5,76,1,\"chevrolet nova\"\\r\\n24.0,6,200.0,81.00,3012.,17.6,76,1,\"ford maverick\"\\r\\n22.5,6,232.0,90.00,3085.,17.6,76,1,\"amc hornet\"\\r\\n29.0,4,85.00,52.00,2035.,22.2,76,1,\"chevrolet chevette\"\\r\\n24.5,4,98.00,60.00,2164.,22.1,76,1,\"chevrolet woody\"\\r\\n29.0,4,90.00,70.00,1937.,14.2,76,2,\"vw rabbit\"\\r\\n33.0,4,91.00,53.00,1795.,17.4,76,3,\"honda civic\"\\r\\n20.0,6,225.0,100.0,3651.,17.7,76,1,\"dodge aspen se\"\\r\\n18.0,6,250.0,78.00,3574.,21.0,76,1,\"ford granada ghia\"\\r\\n18.5,6,250.0,110.0,3645.,16.2,76,1,\"pontiac ventura sj\"\\r\\n17.5,6,258.0,95.00,3193.,17.8,76,1,\"amc pacer d/l\"\\r\\n29.5,4,97.00,71.00,1825.,12.2,76,2,\"volkswagen rabbit\"\\r\\n32.0,4,85.00,70.00,1990.,17.0,76,3,\"datsun b-210\"\\r\\n28.0,4,97.00,75.00,2155.,16.4,76,3,\"toyota corolla\"\\r\\n26.5,4,140.0,72.00,2565.,13.6,76,1,\"ford pinto\"\\r\\n20.0,4,130.0,102.0,3150.,15.7,76,2,\"volvo 245\"\\r\\n13.0,8,318.0,150.0,3940.,13.2,76,1,\"plymouth volare premier v8\"\\r\\n19.0,4,120.0,88.00,3270.,21.9,76,2,\"peugeot 504\"\\r\\n19.0,6,156.0,108.0,2930.,15.5,76,3,\"toyota mark ii\"\\r\\n16.5,6,168.0,120.0,3820.,16.7,76,2,\"mercedes-benz 280s\"\\r\\n16.5,8,350.0,180.0,4380.,12.1,76,1,\"cadillac seville\"\\r\\n13.0,8,350.0,145.0,4055.,12.0,76,1,\"chevy c10\"\\r\\n13.0,8,302.0,130.0,3870.,15.0,76,1,\"ford f108\"\\r\\n13.0,8,318.0,150.0,3755.,14.0,76,1,\"dodge d100\"\\r\\n31.5,4,98.00,68.00,2045.,18.5,77,3,\"honda accord cvcc\"\\r\\n30.0,4,111.0,80.00,2155.,14.8,77,1,\"buick opel isuzu deluxe\"\\r\\n36.0,4,79.00,58.00,1825.,18.6,77,2,\"renault 5 gtl\"\\r\\n25.5,4,122.0,96.00,2300.,15.5,77,1,\"plymouth arrow gs\"\\r\\n33.5,4,85.00,70.00,1945.,16.8,77,3,\"datsun f-10 hatchback\"\\r\\n17.5,8,305.0,145.0,3880.,12.5,77,1,\"chevrolet caprice classic\"\\r\\n17.0,8,260.0,110.0,4060.,19.0,77,1,\"oldsmobile cutlass supreme\"\\r\\n15.5,8,318.0,145.0,4140.,13.7,77,1,\"dodge monaco brougham\"\\r\\n15.0,8,302.0,130.0,4295.,14.9,77,1,\"mercury cougar brougham\"\\r\\n17.5,6,250.0,110.0,3520.,16.4,77,1,\"chevrolet concours\"\\r\\n20.5,6,231.0,105.0,3425.,16.9,77,1,\"buick skylark\"\\r\\n19.0,6,225.0,100.0,3630.,17.7,77,1,\"plymouth volare custom\"\\r\\n18.5,6,250.0,98.00,3525.,19.0,77,1,\"ford granada\"\\r\\n16.0,8,400.0,180.0,4220.,11.1,77,1,\"pontiac grand prix lj\"\\r\\n15.5,8,350.0,170.0,4165.,11.4,77,1,\"chevrolet monte carlo landau\"\\r\\n15.5,8,400.0,190.0,4325.,12.2,77,1,\"chrysler cordoba\"\\r\\n16.0,8,351.0,149.0,4335.,14.5,77,1,\"ford thunderbird\"\\r\\n29.0,4,97.00,78.00,1940.,14.5,77,2,\"volkswagen rabbit custom\"\\r\\n24.5,4,151.0,88.00,2740.,16.0,77,1,\"pontiac sunbird coupe\"\\r\\n26.0,4,97.00,75.00,2265.,18.2,77,3,\"toyota corolla liftback\"\\r\\n25.5,4,140.0,89.00,2755.,15.8,77,1,\"ford mustang ii 2+2\"\\r\\n30.5,4,98.00,63.00,2051.,17.0,77,1,\"chevrolet chevette\"\\r\\n33.5,4,98.00,83.00,2075.,15.9,77,1,\"dodge colt m/m\"\\r\\n30.0,4,97.00,67.00,1985.,16.4,77,3,\"subaru dl\"\\r\\n30.5,4,97.00,78.00,2190.,14.1,77,2,\"volkswagen dasher\"\\r\\n22.0,6,146.0,97.00,2815.,14.5,77,3,\"datsun 810\"\\r\\n21.5,4,121.0,110.0,2600.,12.8,77,2,\"bmw 320i\"\\r\\n21.5,3,80.00,110.0,2720.,13.5,77,3,\"mazda rx-4\"\\r\\n43.1,4,90.00,48.00,1985.,21.5,78,2,\"volkswagen rabbit custom diesel\"\\r\\n36.1,4,98.00,66.00,1800.,14.4,78,1,\"ford fiesta\"\\r\\n32.8,4,78.00,52.00,1985.,19.4,78,3,\"mazda glc deluxe\"\\r\\n39.4,4,85.00,70.00,2070.,18.6,78,3,\"datsun b210 gx\"\\r\\n36.1,4,91.00,60.00,1800.,16.4,78,3,\"honda civic cvcc\"\\r\\n19.9,8,260.0,110.0,3365.,15.5,78,1,\"oldsmobile cutlass salon brougham\"\\r\\n19.4,8,318.0,140.0,3735.,13.2,78,1,\"dodge diplomat\"\\r\\n20.2,8,302.0,139.0,3570.,12.8,78,1,\"mercury monarch ghia\"\\r\\n19.2,6,231.0,105.0,3535.,19.2,78,1,\"pontiac phoenix lj\"\\r\\n20.5,6,200.0,95.00,3155.,18.2,78,1,\"chevrolet malibu\"\\r\\n20.2,6,200.0,85.00,2965.,15.8,78,1,\"ford fairmont (auto)\"\\r\\n25.1,4,140.0,88.00,2720.,15.4,78,1,\"ford fairmont (man)\"\\r\\n20.5,6,225.0,100.0,3430.,17.2,78,1,\"plymouth volare\"\\r\\n19.4,6,232.0,90.00,3210.,17.2,78,1,\"amc concord\"\\r\\n20.6,6,231.0,105.0,3380.,15.8,78,1,\"buick century special\"\\r\\n20.8,6,200.0,85.00,3070.,16.7,78,1,\"mercury zephyr\"\\r\\n18.6,6,225.0,110.0,3620.,18.7,78,1,\"dodge aspen\"\\r\\n18.1,6,258.0,120.0,3410.,15.1,78,1,\"amc concord d/l\"\\r\\n19.2,8,305.0,145.0,3425.,13.2,78,1,\"chevrolet monte carlo landau\"\\r\\n17.7,6,231.0,165.0,3445.,13.4,78,1,\"buick regal sport coupe (turbo)\"\\r\\n18.1,8,302.0,139.0,3205.,11.2,78,1,\"ford futura\"\\r\\n17.5,8,318.0,140.0,4080.,13.7,78,1,\"dodge magnum xe\"\\r\\n30.0,4,98.00,68.00,2155.,16.5,78,1,\"chevrolet chevette\"\\r\\n27.5,4,134.0,95.00,2560.,14.2,78,3,\"toyota corona\"\\r\\n27.2,4,119.0,97.00,2300.,14.7,78,3,\"datsun 510\"\\r\\n30.9,4,105.0,75.00,2230.,14.5,78,1,\"dodge omni\"\\r\\n21.1,4,134.0,95.00,2515.,14.8,78,3,\"toyota celica gt liftback\"\\r\\n23.2,4,156.0,105.0,2745.,16.7,78,1,\"plymouth sapporo\"\\r\\n23.8,4,151.0,85.00,2855.,17.6,78,1,\"oldsmobile starfire sx\"\\r\\n23.9,4,119.0,97.00,2405.,14.9,78,3,\"datsun 200-sx\"\\r\\n20.3,5,131.0,103.0,2830.,15.9,78,2,\"audi 5000\"\\r\\n17.0,6,163.0,125.0,3140.,13.6,78,2,\"volvo 264gl\"\\r\\n21.6,4,121.0,115.0,2795.,15.7,78,2,\"saab 99gle\"\\r\\n16.2,6,163.0,133.0,3410.,15.8,78,2,\"peugeot 604sl\"\\r\\n31.5,4,89.00,71.00,1990.,14.9,78,2,\"volkswagen scirocco\"\\r\\n29.5,4,98.00,68.00,2135.,16.6,78,3,\"honda accord lx\"\\r\\n21.5,6,231.0,115.0,3245.,15.4,79,1,\"pontiac lemans v6\"\\r\\n19.8,6,200.0,85.00,2990.,18.2,79,1,\"mercury zephyr 6\"\\r\\n22.3,4,140.0,88.00,2890.,17.3,79,1,\"ford fairmont 4\"\\r\\n20.2,6,232.0,90.00,3265.,18.2,79,1,\"amc concord dl 6\"\\r\\n20.6,6,225.0,110.0,3360.,16.6,79,1,\"dodge aspen 6\"\\r\\n17.0,8,305.0,130.0,3840.,15.4,79,1,\"chevrolet caprice classic\"\\r\\n17.6,8,302.0,129.0,3725.,13.4,79,1,\"ford ltd landau\"\\r\\n16.5,8,351.0,138.0,3955.,13.2,79,1,\"mercury grand marquis\"\\r\\n18.2,8,318.0,135.0,3830.,15.2,79,1,\"dodge st. regis\"\\r\\n16.9,8,350.0,155.0,4360.,14.9,79,1,\"buick estate wagon (sw)\"\\r\\n15.5,8,351.0,142.0,4054.,14.3,79,1,\"ford country squire (sw)\"\\r\\n19.2,8,267.0,125.0,3605.,15.0,79,1,\"chevrolet malibu classic (sw)\"\\r\\n18.5,8,360.0,150.0,3940.,13.0,79,1,\"chrysler lebaron town @ country (sw)\"\\r\\n31.9,4,89.00,71.00,1925.,14.0,79,2,\"vw rabbit custom\"\\r\\n34.1,4,86.00,65.00,1975.,15.2,79,3,\"maxda glc deluxe\"\\r\\n35.7,4,98.00,80.00,1915.,14.4,79,1,\"dodge colt hatchback custom\"\\r\\n27.4,4,121.0,80.00,2670.,15.0,79,1,\"amc spirit dl\"\\r\\n25.4,5,183.0,77.00,3530.,20.1,79,2,\"mercedes benz 300d\"\\r\\n23.0,8,350.0,125.0,3900.,17.4,79,1,\"cadillac eldorado\"\\r\\n27.2,4,141.0,71.00,3190.,24.8,79,2,\"peugeot 504\"\\r\\n23.9,8,260.0,90.00,3420.,22.2,79,1,\"oldsmobile cutlass salon brougham\"\\r\\n34.2,4,105.0,70.00,2200.,13.2,79,1,\"plymouth horizon\"\\r\\n34.5,4,105.0,70.00,2150.,14.9,79,1,\"plymouth horizon tc3\"\\r\\n31.8,4,85.00,65.00,2020.,19.2,79,3,\"datsun 210\"\\r\\n37.3,4,91.00,69.00,2130.,14.7,79,2,\"fiat strada custom\"\\r\\n28.4,4,151.0,90.00,2670.,16.0,79,1,\"buick skylark limited\"\\r\\n28.8,6,173.0,115.0,2595.,11.3,79,1,\"chevrolet citation\"\\r\\n26.8,6,173.0,115.0,2700.,12.9,79,1,\"oldsmobile omega brougham\"\\r\\n33.5,4,151.0,90.00,2556.,13.2,79,1,\"pontiac phoenix\"\\r\\n41.5,4,98.00,76.00,2144.,14.7,80,2,\"vw rabbit\"\\r\\n38.1,4,89.00,60.00,1968.,18.8,80,3,\"toyota corolla tercel\"\\r\\n32.1,4,98.00,70.00,2120.,15.5,80,1,\"chevrolet chevette\"\\r\\n37.2,4,86.00,65.00,2019.,16.4,80,3,\"datsun 310\"\\r\\n28.0,4,151.0,90.00,2678.,16.5,80,1,\"chevrolet citation\"\\r\\n26.4,4,140.0,88.00,2870.,18.1,80,1,\"ford fairmont\"\\r\\n24.3,4,151.0,90.00,3003.,20.1,80,1,\"amc concord\"\\r\\n19.1,6,225.0,90.00,3381.,18.7,80,1,\"dodge aspen\"\\r\\n34.3,4,97.00,78.00,2188.,15.8,80,2,\"audi 4000\"\\r\\n29.8,4,134.0,90.00,2711.,15.5,80,3,\"toyota corona liftback\"\\r\\n31.3,4,120.0,75.00,2542.,17.5,80,3,\"mazda 626\"\\r\\n37.0,4,119.0,92.00,2434.,15.0,80,3,\"datsun 510 hatchback\"\\r\\n32.2,4,108.0,75.00,2265.,15.2,80,3,\"toyota corolla\"\\r\\n46.6,4,86.00,65.00,2110.,17.9,80,3,\"mazda glc\"\\r\\n27.9,4,156.0,105.0,2800.,14.4,80,1,\"dodge colt\"\\r\\n40.8,4,85.00,65.00,2110.,19.2,80,3,\"datsun 210\"\\r\\n44.3,4,90.00,48.00,2085.,21.7,80,2,\"vw rabbit c (diesel)\"\\r\\n43.4,4,90.00,48.00,2335.,23.7,80,2,\"vw dasher (diesel)\"\\r\\n36.4,5,121.0,67.00,2950.,19.9,80,2,\"audi 5000s (diesel)\"\\r\\n30.0,4,146.0,67.00,3250.,21.8,80,2,\"mercedes-benz 240d\"\\r\\n44.6,4,91.00,67.00,1850.,13.8,80,3,\"honda civic 1500 gl\"\\r\\n40.9,4,85.00,?, 1835.,17.3,80,2,\"renault lecar deluxe\"\\r\\n33.8,4,97.00,67.00,2145.,18.0,80,3,\"subaru dl\"\\r\\n29.8,4,89.00,62.00,1845.,15.3,80,2,\"vokswagen rabbit\"\\r\\n32.7,6,168.0,132.0,2910.,11.4,80,3,\"datsun 280-zx\"\\r\\n23.7,3,70.00,100.0,2420.,12.5,80,3,\"mazda rx-7 gs\"\\r\\n35.0,4,122.0,88.00,2500.,15.1,80,2,\"triumph tr7 coupe\"\\r\\n23.6,4,140.0,?, 2905.,14.3,80,1,\"ford mustang cobra\"\\r\\n32.4,4,107.0,72.00,2290.,17.0,80,3,\"honda accord\"\\r\\n27.2,4,135.0,84.00,2490.,15.7,81,1,\"plymouth reliant\"\\r\\n26.6,4,151.0,84.00,2635.,16.4,81,1,\"buick skylark\"\\r\\n25.8,4,156.0,92.00,2620.,14.4,81,1,\"dodge aries wagon (sw)\"\\r\\n23.5,6,173.0,110.0,2725.,12.6,81,1,\"chevrolet citation\"\\r\\n30.0,4,135.0,84.00,2385.,12.9,81,1,\"plymouth reliant\"\\r\\n39.1,4,79.00,58.00,1755.,16.9,81,3,\"toyota starlet\"\\r\\n39.0,4,86.00,64.00,1875.,16.4,81,1,\"plymouth champ\"\\r\\n35.1,4,81.00,60.00,1760.,16.1,81,3,\"honda civic 1300\"\\r\\n32.3,4,97.00,67.00,2065.,17.8,81,3,\"subaru\"\\r\\n37.0,4,85.00,65.00,1975.,19.4,81,3,\"datsun 210 mpg\"\\r\\n37.7,4,89.00,62.00,2050.,17.3,81,3,\"toyota tercel\"\\r\\n34.1,4,91.00,68.00,1985.,16.0,81,3,\"mazda glc 4\"\\r\\n34.7,4,105.0,63.00,2215.,14.9,81,1,\"plymouth horizon 4\"\\r\\n34.4,4,98.00,65.00,2045.,16.2,81,1,\"ford escort 4w\"\\r\\n29.9,4,98.00,65.00,2380.,20.7,81,1,\"ford escort 2h\"\\r\\n33.0,4,105.0,74.00,2190.,14.2,81,2,\"volkswagen jetta\"\\r\\n34.5,4,100.0,?, 2320.,15.8,81,2,\"renault 18i\"\\r\\n33.7,4,107.0,75.00,2210.,14.4,81,3,\"honda prelude\"\\r\\n32.4,4,108.0,75.00,2350.,16.8,81,3,\"toyota corolla\"\\r\\n32.9,4,119.0,100.0,2615.,14.8,81,3,\"datsun 200sx\"\\r\\n31.6,4,120.0,74.00,2635.,18.3,81,3,\"mazda 626\"\\r\\n28.1,4,141.0,80.00,3230.,20.4,81,2,\"peugeot 505s turbo diesel\"\\r\\n30.7,6,145.0,76.00,3160.,19.6,81,2,\"volvo diesel\"\\r\\n25.4,6,168.0,116.0,2900.,12.6,81,3,\"toyota cressida\"\\r\\n24.2,6,146.0,120.0,2930.,13.8,81,3,\"datsun 810 maxima\"\\r\\n22.4,6,231.0,110.0,3415.,15.8,81,1,\"buick century\"\\r\\n26.6,8,350.0,105.0,3725.,19.0,81,1,\"oldsmobile cutlass ls\"\\r\\n20.2,6,200.0,88.00,3060.,17.1,81,1,\"ford granada gl\"\\r\\n17.6,6,225.0,85.00,3465.,16.6,81,1,\"chrysler lebaron salon\"\\r\\n28.0,4,112.0,88.00,2605.,19.6,82,1,\"chevrolet cavalier\"\\r\\n27.0,4,112.0,88.00,2640.,18.6,82,1,\"chevrolet cavalier wagon\"\\r\\n34.0,4,112.0,88.00,2395.,18.0,82,1,\"chevrolet cavalier 2-door\"\\r\\n31.0,4,112.0,85.00,2575.,16.2,82,1,\"pontiac j2000 se hatchback\"\\r\\n29.0,4,135.0,84.00,2525.,16.0,82,1,\"dodge aries se\"\\r\\n27.0,4,151.0,90.00,2735.,18.0,82,1,\"pontiac phoenix\"\\r\\n24.0,4,140.0,92.00,2865.,16.4,82,1,\"ford fairmont futura\"\\r\\n23.0,4,151.0,?, 3035.,20.5,82,1,\"amc concord dl\"\\r\\n36.0,4,105.0,74.00,1980.,15.3,82,2,\"volkswagen rabbit l\"\\r\\n37.0,4,91.00,68.00,2025.,18.2,82,3,\"mazda glc custom l\"\\r\\n31.0,4,91.00,68.00,1970.,17.6,82,3,\"mazda glc custom\"\\r\\n38.0,4,105.0,63.00,2125.,14.7,82,1,\"plymouth horizon miser\"\\r\\n36.0,4,98.00,70.00,2125.,17.3,82,1,\"mercury lynx l\"\\r\\n36.0,4,120.0,88.00,2160.,14.5,82,3,\"nissan stanza xe\"\\r\\n36.0,4,107.0,75.00,2205.,14.5,82,3,\"honda accord\"\\r\\n34.0,4,108.0,70.00,2245, 16.9,82,3,\"toyota corolla\"\\r\\n38.0,4,91.00,67.00,1965.,15.0,82,3,\"honda civic\"\\r\\n32.0,4,91.00,67.00,1965.,15.7,82,3,\"honda civic (auto)\"\\r\\n38.0,4,91.00,67.00,1995.,16.2,82,3,\"datsun 310 gx\"\\r\\n25.0,6,181.0,110.0,2945.,16.4,82,1,\"buick century limited\"\\r\\n38.0,6,262.0,85.00,3015.,17.0,82,1,\"oldsmobile cutlass ciera (diesel)\"\\r\\n26.0,4,156.0,92.00,2585.,14.5,82,1,\"chrysler lebaron medallion\"\\r\\n22.0,6,232.0,112.0,2835, 14.7,82,1,\"ford granada l\"\\r\\n32.0,4,144.0,96.00,2665.,13.9,82,3,\"toyota celica gt\"\\r\\n36.0,4,135.0,84.00,2370.,13.0,82,1,\"dodge charger 2.2\"\\r\\n27.0,4,151.0,90.00,2950.,17.3,82,1,\"chevrolet camaro\"\\r\\n27.0,4,140.0,86.00,2790.,15.6,82,1,\"ford mustang gl\"\\r\\n44.0,4,97.00,52.00,2130.,24.6,82,2,\"vw pickup\"\\r\\n32.0,4,135.0,84.00,2295.,11.6,82,1,\"dodge rampage\"\\r\\n28.0,4,120.0,79.00,2625.,18.6,82,1,\"ford ranger\"\\r\\n31.0,4,119.0,82.00,2720.,19.4,82,1,\"chevy s-10\"\\r\\n'}"
            ]
          },
          "metadata": {
            "tags": []
          },
          "execution_count": 10
        }
      ]
    },
    {
      "cell_type": "code",
      "metadata": {
        "colab": {
          "base_uri": "https://localhost:8080/",
          "height": 204
        },
        "id": "CxBttGAKbsZ-",
        "outputId": "3a39c101-ee00-476e-b624-42483c8157d3"
      },
      "source": [
        "import pandas as pd\n",
        "\n",
        "# encoding\n",
        "datasets = pd.read_csv('auto-mpg.csv', encoding='utf-8')\n",
        "datasets.head()"
      ],
      "execution_count": 11,
      "outputs": [
        {
          "output_type": "execute_result",
          "data": {
            "text/html": [
              "<div>\n",
              "<style scoped>\n",
              "    .dataframe tbody tr th:only-of-type {\n",
              "        vertical-align: middle;\n",
              "    }\n",
              "\n",
              "    .dataframe tbody tr th {\n",
              "        vertical-align: top;\n",
              "    }\n",
              "\n",
              "    .dataframe thead th {\n",
              "        text-align: right;\n",
              "    }\n",
              "</style>\n",
              "<table border=\"1\" class=\"dataframe\">\n",
              "  <thead>\n",
              "    <tr style=\"text-align: right;\">\n",
              "      <th></th>\n",
              "      <th>18.0</th>\n",
              "      <th>8</th>\n",
              "      <th>307.0</th>\n",
              "      <th>130.0</th>\n",
              "      <th>3504.</th>\n",
              "      <th>12.0</th>\n",
              "      <th>70</th>\n",
              "      <th>1</th>\n",
              "      <th>chevrolet chevelle malibu</th>\n",
              "    </tr>\n",
              "  </thead>\n",
              "  <tbody>\n",
              "    <tr>\n",
              "      <th>0</th>\n",
              "      <td>15.0</td>\n",
              "      <td>8</td>\n",
              "      <td>350.0</td>\n",
              "      <td>165.0</td>\n",
              "      <td>3693.0</td>\n",
              "      <td>11.5</td>\n",
              "      <td>70</td>\n",
              "      <td>1</td>\n",
              "      <td>buick skylark 320</td>\n",
              "    </tr>\n",
              "    <tr>\n",
              "      <th>1</th>\n",
              "      <td>18.0</td>\n",
              "      <td>8</td>\n",
              "      <td>318.0</td>\n",
              "      <td>150.0</td>\n",
              "      <td>3436.0</td>\n",
              "      <td>11.0</td>\n",
              "      <td>70</td>\n",
              "      <td>1</td>\n",
              "      <td>plymouth satellite</td>\n",
              "    </tr>\n",
              "    <tr>\n",
              "      <th>2</th>\n",
              "      <td>16.0</td>\n",
              "      <td>8</td>\n",
              "      <td>304.0</td>\n",
              "      <td>150.0</td>\n",
              "      <td>3433.0</td>\n",
              "      <td>12.0</td>\n",
              "      <td>70</td>\n",
              "      <td>1</td>\n",
              "      <td>amc rebel sst</td>\n",
              "    </tr>\n",
              "    <tr>\n",
              "      <th>3</th>\n",
              "      <td>17.0</td>\n",
              "      <td>8</td>\n",
              "      <td>302.0</td>\n",
              "      <td>140.0</td>\n",
              "      <td>3449.0</td>\n",
              "      <td>10.5</td>\n",
              "      <td>70</td>\n",
              "      <td>1</td>\n",
              "      <td>ford torino</td>\n",
              "    </tr>\n",
              "    <tr>\n",
              "      <th>4</th>\n",
              "      <td>15.0</td>\n",
              "      <td>8</td>\n",
              "      <td>429.0</td>\n",
              "      <td>198.0</td>\n",
              "      <td>4341.0</td>\n",
              "      <td>10.0</td>\n",
              "      <td>70</td>\n",
              "      <td>1</td>\n",
              "      <td>ford galaxie 500</td>\n",
              "    </tr>\n",
              "  </tbody>\n",
              "</table>\n",
              "</div>"
            ],
            "text/plain": [
              "   18.0  8  307.0  130.0   3504.  12.0  70  1 chevrolet chevelle malibu\n",
              "0  15.0  8  350.0  165.0  3693.0  11.5  70  1         buick skylark 320\n",
              "1  18.0  8  318.0  150.0  3436.0  11.0  70  1        plymouth satellite\n",
              "2  16.0  8  304.0  150.0  3433.0  12.0  70  1             amc rebel sst\n",
              "3  17.0  8  302.0  140.0  3449.0  10.5  70  1               ford torino\n",
              "4  15.0  8  429.0  198.0  4341.0  10.0  70  1          ford galaxie 500"
            ]
          },
          "metadata": {
            "tags": []
          },
          "execution_count": 11
        }
      ]
    },
    {
      "cell_type": "code",
      "metadata": {
        "colab": {
          "base_uri": "https://localhost:8080/"
        },
        "id": "uZgf0ny2cYsj",
        "outputId": "a82410c7-caa6-4f7f-eed4-7bc31f9b741b"
      },
      "source": [
        "import tensorflow as tf\n",
        "from tensorflow import keras\n",
        "\n",
        "import matplotlib.pyplot as plt\n",
        "from sklearn.model_selection import train_test_split\n",
        "from tensorflow.keras.layers import Input, Dense\n",
        "from tensorflow.keras.models import Sequential, Model\n",
        "\n",
        "import numpy as np\n",
        "import pandas as pd\n",
        "print(tf.__version__)\n",
        "print(keras.__version__)"
      ],
      "execution_count": 24,
      "outputs": [
        {
          "output_type": "stream",
          "text": [
            "2.4.1\n",
            "2.4.0\n"
          ],
          "name": "stdout"
        }
      ]
    },
    {
      "cell_type": "code",
      "metadata": {
        "id": "P0JDzLgJcjXo"
      },
      "source": [
        "(x_train, y_train) , (x_test , y_test) = keras.datasets.mnist.load_data()"
      ],
      "execution_count": 36,
      "outputs": []
    },
    {
      "cell_type": "code",
      "metadata": {
        "id": "VfRwQ9e2exej"
      },
      "source": [
        "\n",
        "y_train = keras.utils.to_categorical(y_train, 10)\n",
        "y_test = keras.utils.to_categorical(y_test, 10)\n",
        "x_train = x_train.reshape(60000,784)\n",
        "x_test = x_test.reshape(10000,784)"
      ],
      "execution_count": 37,
      "outputs": []
    },
    {
      "cell_type": "code",
      "metadata": {
        "id": "LmzF6zvQcjDc"
      },
      "source": [
        "from sklearn.model_selection import train_test_split\n",
        "from tensorflow.keras.callbacks import EarlyStopping, ModelCheckpoint\n",
        "from tensorflow.keras.layers import Dropout\n",
        "\n",
        "\n",
        "x_train,x_val, y_train, y_val = train_test_split(x_train, y_train, \n",
        "                                                test_size = 0.3,\n",
        "                                                random_state = 100)"
      ],
      "execution_count": 38,
      "outputs": []
    },
    {
      "cell_type": "code",
      "metadata": {
        "id": "Su0xI2XLcigs"
      },
      "source": [
        "\n",
        "input = Input(shape=(784,), name='input')\n",
        "\n",
        "hidden1 = Dense(256 , activation = 'sigmoid', name = 'hidden1')(input)\n",
        "hidden2 = Dense(128 , activation = 'sigmoid', name = 'hidden2')(hidden1)\n",
        "hidden3 = Dense(64 , activation = 'sigmoid', name = 'hidden3')(hidden2)\n",
        "hidden4 = Dense(32 , activation = 'sigmoid', name = 'hidden4')(hidden3)\n",
        "\n",
        "output =  Dense(10 , activation = 'softmax', name = 'output')(hidden4)\n",
        "\n",
        "model = Model(inputs=[input], outputs=[output])\n"
      ],
      "execution_count": 39,
      "outputs": []
    },
    {
      "cell_type": "code",
      "metadata": {
        "id": "qDdO-yP0dBe7"
      },
      "source": [
        "from tensorflow.keras.optimizers import SGD\n",
        "\n",
        "optimizer = SGD(learning_rate=0.01)\n",
        "model.compile(optimizer = optimizer ,\n",
        "              loss      = 'categorical_crossentropy',\n",
        "              metrics   = ['accuracy'])"
      ],
      "execution_count": 40,
      "outputs": []
    },
    {
      "cell_type": "code",
      "metadata": {
        "colab": {
          "base_uri": "https://localhost:8080/"
        },
        "id": "kMMRsDIpdBYe",
        "outputId": "76d45aa9-7235-44f1-cdf3-fe023a66282d"
      },
      "source": [
        "callbacks = [EarlyStopping(monitor='val_accuracy', patience=3)]\n",
        "history= model.fit(x_train, y_train , batch_size = 2000, epochs = 200 ,validation_data=(x_val , y_val), callbacks=callbacks)"
      ],
      "execution_count": 42,
      "outputs": [
        {
          "output_type": "stream",
          "text": [
            "Epoch 1/200\n",
            "21/21 [==============================] - 2s 73ms/step - loss: 0.3639 - accuracy: 0.9256 - val_loss: 0.4120 - val_accuracy: 0.9073\n",
            "Epoch 2/200\n",
            "21/21 [==============================] - 1s 62ms/step - loss: 0.3582 - accuracy: 0.9275 - val_loss: 0.4108 - val_accuracy: 0.9070\n",
            "Epoch 3/200\n",
            "21/21 [==============================] - 1s 64ms/step - loss: 0.3545 - accuracy: 0.9293 - val_loss: 0.4096 - val_accuracy: 0.9081\n",
            "Epoch 4/200\n",
            "21/21 [==============================] - 1s 64ms/step - loss: 0.3517 - accuracy: 0.9300 - val_loss: 0.4087 - val_accuracy: 0.9088\n",
            "Epoch 5/200\n",
            "21/21 [==============================] - 1s 64ms/step - loss: 0.3495 - accuracy: 0.9311 - val_loss: 0.4078 - val_accuracy: 0.9087\n",
            "Epoch 6/200\n",
            "21/21 [==============================] - 1s 62ms/step - loss: 0.3473 - accuracy: 0.9318 - val_loss: 0.4069 - val_accuracy: 0.9094\n",
            "Epoch 7/200\n",
            "21/21 [==============================] - 1s 62ms/step - loss: 0.3454 - accuracy: 0.9323 - val_loss: 0.4061 - val_accuracy: 0.9091\n",
            "Epoch 8/200\n",
            "21/21 [==============================] - 1s 64ms/step - loss: 0.3436 - accuracy: 0.9326 - val_loss: 0.4054 - val_accuracy: 0.9097\n",
            "Epoch 9/200\n",
            "21/21 [==============================] - 1s 63ms/step - loss: 0.3420 - accuracy: 0.9336 - val_loss: 0.4047 - val_accuracy: 0.9098\n",
            "Epoch 10/200\n",
            "21/21 [==============================] - 1s 63ms/step - loss: 0.3403 - accuracy: 0.9342 - val_loss: 0.4039 - val_accuracy: 0.9097\n",
            "Epoch 11/200\n",
            "21/21 [==============================] - 1s 63ms/step - loss: 0.3388 - accuracy: 0.9347 - val_loss: 0.4033 - val_accuracy: 0.9104\n",
            "Epoch 12/200\n",
            "21/21 [==============================] - 1s 63ms/step - loss: 0.3374 - accuracy: 0.9350 - val_loss: 0.4025 - val_accuracy: 0.9102\n",
            "Epoch 13/200\n",
            "21/21 [==============================] - 1s 65ms/step - loss: 0.3360 - accuracy: 0.9356 - val_loss: 0.4019 - val_accuracy: 0.9099\n",
            "Epoch 14/200\n",
            "21/21 [==============================] - 1s 63ms/step - loss: 0.3346 - accuracy: 0.9358 - val_loss: 0.4012 - val_accuracy: 0.9105\n",
            "Epoch 15/200\n",
            "21/21 [==============================] - 1s 62ms/step - loss: 0.3333 - accuracy: 0.9364 - val_loss: 0.4006 - val_accuracy: 0.9101\n",
            "Epoch 16/200\n",
            "21/21 [==============================] - 1s 63ms/step - loss: 0.3321 - accuracy: 0.9365 - val_loss: 0.3999 - val_accuracy: 0.9100\n",
            "Epoch 17/200\n",
            "21/21 [==============================] - 1s 63ms/step - loss: 0.3309 - accuracy: 0.9368 - val_loss: 0.3992 - val_accuracy: 0.9105\n"
          ],
          "name": "stdout"
        }
      ]
    },
    {
      "cell_type": "code",
      "metadata": {
        "id": "4jKIM7opdBVV"
      },
      "source": [
        "history_dict = history.history\n",
        "loss = history_dict['loss']\n",
        "val_loss = history_dict['val_loss']"
      ],
      "execution_count": 34,
      "outputs": []
    },
    {
      "cell_type": "code",
      "metadata": {
        "colab": {
          "base_uri": "https://localhost:8080/",
          "height": 297
        },
        "id": "BL73ASezdAvk",
        "outputId": "f2983a36-fc22-4eb9-e1d9-1fd52790c7a5"
      },
      "source": [
        "loss = history_dict['loss']\n",
        "val_loss = history_dict['val_loss']\n",
        "\n",
        "fig = plt.figure()\n",
        "ax01 = fig.add_subplot(1,2,1)\n",
        "\n",
        "epochs = range(1, len(loss)+1)\n",
        "\n",
        "ax01.plot(epochs , loss , color = 'blue', label= 'train loss')\n",
        "ax01.plot(epochs , val_loss , color = 'red', label= 'val loss')\n",
        "ax01.set_xlabel('Epoch')\n",
        "ax01.set_ylabel('Loss')\n",
        "ax01.grid()\n",
        "ax01.legend()\n",
        "\n",
        "acc = history_dict['accuracy']\n",
        "val_acc = history_dict['val_accuracy']\n",
        "\n",
        "ax02 = fig.add_subplot(1,2,2)\n",
        "ax02.plot(epochs , acc , color = 'blue', label= 'train acc')\n",
        "ax02.plot(epochs , val_acc , color = 'red', label= 'val acc')\n",
        "ax02.set_xlabel('Epoch')\n",
        "ax02.set_ylabel('Loss')\n",
        "ax02.grid()\n",
        "ax02.legend()"
      ],
      "execution_count": 35,
      "outputs": [
        {
          "output_type": "execute_result",
          "data": {
            "text/plain": [
              "<matplotlib.legend.Legend at 0x7f7127852750>"
            ]
          },
          "metadata": {
            "tags": []
          },
          "execution_count": 35
        },
        {
          "output_type": "display_data",
          "data": {
            "image/png": "[encoded data removed]",
            "text/plain": [
              "<Figure size 432x288 with 2 Axes>"
            ]
          },
          "metadata": {
            "tags": [],
            "needs_background": "light"
          }
        }
      ]
    },
    {
      "cell_type": "code",
      "metadata": {
        "id": "KOFGNyoycd1l"
      },
      "source": [
        ""
      ],
      "execution_count": null,
      "outputs": []
    }
  ]
}